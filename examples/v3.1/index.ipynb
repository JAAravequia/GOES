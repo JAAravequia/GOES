{
 "cells": [
  {
   "cell_type": "markdown",
   "metadata": {},
   "source": [
    "# The tutorial for the version 3.1 was removed because the package was update. If you have installed the GOES package, you should update it to the last version."
   ]
  },
  {
   "cell_type": "markdown",
   "metadata": {},
   "source": [
    "If you installed the GOES package with pip, then you can update it by typing the following:\n",
    "```\n",
    "pip install --upgrade GOES\n",
    "```"
   ]
  },
  {
   "cell_type": "markdown",
   "metadata": {},
   "source": [
    "**The latest version** of the GOES package can be found [here](https://github.com/joaohenry23/GOES) and its **tutorial** [here](https://github.com/joaohenry23/GOES/blob/master/examples/index.ipynb)."
   ]
  }
 ],
 "metadata": {
  "kernelspec": {
   "display_name": "Python 3",
   "language": "python",
   "name": "python3"
  },
  "language_info": {
   "codemirror_mode": {
    "name": "ipython",
    "version": 3
   },
   "file_extension": ".py",
   "mimetype": "text/x-python",
   "name": "python",
   "nbconvert_exporter": "python",
   "pygments_lexer": "ipython3",
   "version": "3.6.11"
  }
 },
 "nbformat": 4,
 "nbformat_minor": 4
}
