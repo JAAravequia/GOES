{
 "cells": [
  {
   "cell_type": "code",
   "execution_count": 1,
   "metadata": {},
   "outputs": [],
   "source": [
    "import GOES"
   ]
  },
  {
   "cell_type": "code",
   "execution_count": 2,
   "metadata": {},
   "outputs": [
    {
     "name": "stdout",
     "output_type": "stream",
     "text": [
      "Help on function download in module GOES.downloads.download_data:\n",
      "\n",
      "download(Satellite, Product, DateTimeIni=None, DateTimeFin=None, Domain=None, Channel=None, Rename_fmt=False, PathOut='')\n",
      "    Download data of GOES-16 and GOES-17 from Amazon server.\n",
      "    This function is based on the code of\n",
      "    blaylockbk https://gist.github.com/blaylockbk/d60f4fce15a7f0475f975fc57da9104d\n",
      "    \n",
      "    \n",
      "    Parameters\n",
      "    ----------\n",
      "    Satellite : string\n",
      "                Indicates serie of GOES, the options are:\n",
      "                goes16\n",
      "                goes17\n",
      "    \n",
      "    \n",
      "    Product : string\n",
      "              Indicates the instrument and level of product. The products can be list using:\n",
      "              GOES.show_products()\n",
      "    \n",
      "    \n",
      "    DateTimeIni : string (None)\n",
      "                  String that indicates the initial datetime, their structure\n",
      "                  must be yyyymmdd-HHMMSS\n",
      "                  Example:\n",
      "                     DateTimeIni='20180520-183000'\n",
      "    \n",
      "    \n",
      "    DateTimeFin : string (None)\n",
      "                  String that indicates the final datetime, their structure\n",
      "                  must be yyyymmdd-HHMMSS\n",
      "                  Example:\n",
      "                     DateTimeFin='20180520-183000'\n",
      "    \n",
      "    \n",
      "    Domain : string (None)\n",
      "             This parameter just is necessary with Mesoescale products.\n",
      "             The options are:\n",
      "                     M1 : Mesoscale 1\n",
      "                     M2 : Mesoscale 2\n",
      "    \n",
      "    \n",
      "    Channel : string list (None)\n",
      "              This parameter just is necessary with ABI-L1b-Rad and ABI-L2-CMIP products.\n",
      "              String list indicates the channel or channels that will be download.\n",
      "              The channels can be mentioned individually as elements of the list\n",
      "              or as a sequence of channels separated by a hyphen ('-').\n",
      "              Example:\n",
      "                 Channel = ['02','08','09','10','11','13']\n",
      "                 Channel = ['02','08-11','13']\n",
      "    \n",
      "    \n",
      "    Rename_fmt : bool (False) or string\n",
      "                 Is an optional parameter and its default value is Rename_fmt=False which\n",
      "                 indicates that the file name is kept. If would you like that the file name\n",
      "                 just keep the start time of scan you have to define the format of datetime.\n",
      "                 See the next link to know about datetime format:\n",
      "                 https://docs.python.org/3/library/datetime.html#strftime-and-strptime-format-codes).\n",
      "                 Example:\n",
      "                    Rename_fmt = '%Y%m%d%H%M%S'\n",
      "                    Rename_fmt = '%Y%m%d%H%M'\n",
      "                    Rename_fmt = '%Y%j%H%M'\n",
      "    \n",
      "    \n",
      "    PathOut : string\n",
      "             Optional string that indicates the folder where data will be download.\n",
      "             The default value is folder where python was open.\n",
      "\n"
     ]
    }
   ],
   "source": [
    "# gets help of GOES\n",
    "help(GOES.download)"
   ]
  },
  {
   "cell_type": "code",
   "execution_count": 3,
   "metadata": {},
   "outputs": [
    {
     "name": "stdout",
     "output_type": "stream",
     "text": [
      " \n",
      "Products for goes16:\n",
      "\tABI-L1b-RadC\n",
      "\tABI-L1b-RadF\n",
      "\tABI-L1b-RadM\n",
      "\tABI-L2-ACHAC\n",
      "\tABI-L2-ACHAF\n",
      "\tABI-L2-ACHAM\n",
      "\tABI-L2-ACHTF\n",
      "\tABI-L2-ACHTM\n",
      "\tABI-L2-ACMC\n",
      "\tABI-L2-ACMF\n",
      "\tABI-L2-ACMM\n",
      "\tABI-L2-ACTPC\n",
      "\tABI-L2-ACTPF\n",
      "\tABI-L2-ACTPM\n",
      "\tABI-L2-ADPC\n",
      "\tABI-L2-ADPF\n",
      "\tABI-L2-ADPM\n",
      "\tABI-L2-AODC\n",
      "\tABI-L2-AODF\n",
      "\tABI-L2-CMIPC\n",
      "\tABI-L2-CMIPF\n",
      "\tABI-L2-CMIPM\n",
      "\tABI-L2-CODC\n",
      "\tABI-L2-CODF\n",
      "\tABI-L2-CPSC\n",
      "\tABI-L2-CPSF\n",
      "\tABI-L2-CPSM\n",
      "\tABI-L2-CTPC\n",
      "\tABI-L2-CTPF\n",
      "\tABI-L2-DMWC\n",
      "\tABI-L2-DMWF\n",
      "\tABI-L2-DMWM\n",
      "\tABI-L2-DSIC\n",
      "\tABI-L2-DSIF\n",
      "\tABI-L2-DSIM\n",
      "\tABI-L2-DSRC\n",
      "\tABI-L2-DSRF\n",
      "\tABI-L2-DSRM\n",
      "\tABI-L2-FDCC\n",
      "\tABI-L2-FDCF\n",
      "\tABI-L2-LSTC\n",
      "\tABI-L2-LSTF\n",
      "\tABI-L2-LSTM\n",
      "\tABI-L2-LVMPC\n",
      "\tABI-L2-LVMPF\n",
      "\tABI-L2-LVMPM\n",
      "\tABI-L2-LVTPC\n",
      "\tABI-L2-LVTPF\n",
      "\tABI-L2-LVTPM\n",
      "\tABI-L2-MCMIPC\n",
      "\tABI-L2-MCMIPF\n",
      "\tABI-L2-MCMIPM\n",
      "\tABI-L2-RRQPEF\n",
      "\tABI-L2-RSRC\n",
      "\tABI-L2-RSRF\n",
      "\tABI-L2-SSTF\n",
      "\tABI-L2-TPWC\n",
      "\tABI-L2-TPWF\n",
      "\tABI-L2-TPWM\n",
      "\tABI-L2-VAAF\n",
      "\tGLM-L2-LCFA\n",
      "\tSUVI-L1b-Fe093\n",
      "\tSUVI-L1b-Fe13\n",
      "\tSUVI-L1b-Fe131\n",
      "\tSUVI-L1b-Fe17\n",
      "\tSUVI-L1b-Fe171\n",
      "\tSUVI-L1b-Fe195\n",
      "\tSUVI-L1b-Fe284\n",
      "\tSUVI-L1b-He303\n",
      " \n",
      "Products for goes17:\n",
      "\tABI-L1b-RadC\n",
      "\tABI-L1b-RadF\n",
      "\tABI-L1b-RadM\n",
      "\tABI-L2-ACHAC\n",
      "\tABI-L2-ACHAF\n",
      "\tABI-L2-ACHAM\n",
      "\tABI-L2-ACHTF\n",
      "\tABI-L2-ACHTM\n",
      "\tABI-L2-ACMC\n",
      "\tABI-L2-ACMF\n",
      "\tABI-L2-ACMM\n",
      "\tABI-L2-ACTPC\n",
      "\tABI-L2-ACTPF\n",
      "\tABI-L2-ACTPM\n",
      "\tABI-L2-ADPC\n",
      "\tABI-L2-ADPF\n",
      "\tABI-L2-ADPM\n",
      "\tABI-L2-AODC\n",
      "\tABI-L2-AODF\n",
      "\tABI-L2-CMIPC\n",
      "\tABI-L2-CMIPF\n",
      "\tABI-L2-CMIPM\n",
      "\tABI-L2-CODC\n",
      "\tABI-L2-CODF\n",
      "\tABI-L2-CPSC\n",
      "\tABI-L2-CPSF\n",
      "\tABI-L2-CPSM\n",
      "\tABI-L2-CTPC\n",
      "\tABI-L2-CTPF\n",
      "\tABI-L2-DMWC\n",
      "\tABI-L2-DMWF\n",
      "\tABI-L2-DMWM\n",
      "\tABI-L2-DSIC\n",
      "\tABI-L2-DSIF\n",
      "\tABI-L2-DSIM\n",
      "\tABI-L2-DSRC\n",
      "\tABI-L2-DSRF\n",
      "\tABI-L2-DSRM\n",
      "\tABI-L2-FDCC\n",
      "\tABI-L2-FDCF\n",
      "\tABI-L2-LSTC\n",
      "\tABI-L2-LSTF\n",
      "\tABI-L2-LSTM\n",
      "\tABI-L2-LVMPC\n",
      "\tABI-L2-LVMPF\n",
      "\tABI-L2-LVMPM\n",
      "\tABI-L2-LVTPC\n",
      "\tABI-L2-LVTPF\n",
      "\tABI-L2-LVTPM\n",
      "\tABI-L2-MCMIPC\n",
      "\tABI-L2-MCMIPF\n",
      "\tABI-L2-MCMIPM\n",
      "\tABI-L2-RRQPEF\n",
      "\tABI-L2-RSRC\n",
      "\tABI-L2-RSRF\n",
      "\tABI-L2-SSTF\n",
      "\tABI-L2-TPWC\n",
      "\tABI-L2-TPWF\n",
      "\tABI-L2-TPWM\n",
      "\tABI-L2-VAAF\n",
      "\tGLM-L2-LCFA\n",
      "\tSUVI-L1b-Fe093\n",
      "\tSUVI-L1b-Fe13\n",
      "\tSUVI-L1b-Fe131\n",
      "\tSUVI-L1b-Fe17\n",
      "\tSUVI-L1b-Fe171\n",
      "\tSUVI-L1b-Fe195\n",
      "\tSUVI-L1b-Fe284\n",
      "\tSUVI-L1b-He303\n",
      " \n",
      "Descriptions of products in the next link: \n",
      "\thttps://docs.opendata.aws/noaa-goes16/cics-readme.html#about-the-data \n",
      "\n"
     ]
    }
   ],
   "source": [
    "# gets products name\n",
    "GOES.show_products()"
   ]
  },
  {
   "cell_type": "code",
   "execution_count": 4,
   "metadata": {},
   "outputs": [
    {
     "name": "stdout",
     "output_type": "stream",
     "text": [
      "Channel list: ['13'] \n",
      "\n",
      " \n",
      "Server: s3://noaa-goes16/ABI-L1b-RadF/2020/080/20/\n",
      "PathOut: /home/joao/Downloads/\n",
      "\tOR_ABI-L1b-RadF-M6C13_G16_s20200802030177_e20200802039497_c20200802039578.nc\t100%\t2.47 min\n",
      "\tOR_ABI-L1b-RadF-M6C13_G16_s20200802040177_e20200802049497_c20200802049570.nc\t100%\t2.43 min\n"
     ]
    }
   ],
   "source": [
    "# download one ABI's channels of full disk\n",
    "GOES.download('goes16', 'ABI-L1b-RadF',\n",
    "              DateTimeIni = '20200320-203000', DateTimeFin = '20200320-205000', \n",
    "              Channel = ['13'], PathOut='/home/joao/Downloads/')"
   ]
  },
  {
   "cell_type": "code",
   "execution_count": 5,
   "metadata": {},
   "outputs": [
    {
     "name": "stdout",
     "output_type": "stream",
     "text": [
      "Channel list: ['08', '09', '10', '13'] \n",
      "\n",
      " \n",
      "Server: s3://noaa-goes16/ABI-L1b-RadF/2020/080/20/\n",
      "PathOut: /home/joao/Downloads/\n",
      "\tOR_ABI-L1b-RadF-M6C08_G16_s20200802030177_e20200802039485_c20200802039554.nc\t100%\t3.02 min\n",
      "\tOR_ABI-L1b-RadF-M6C08_G16_s20200802040177_e20200802049485_c20200802049553.nc\t100%\t2.43 min\n",
      "\tOR_ABI-L1b-RadF-M6C09_G16_s20200802030177_e20200802039491_c20200802039569.nc\t100%\t2.08 min\n",
      "\tOR_ABI-L1b-RadF-M6C09_G16_s20200802040177_e20200802049491_c20200802049560.nc\t100%\t1.58 min\n",
      "\tOR_ABI-L1b-RadF-M6C10_G16_s20200802030177_e20200802039497_c20200802039560.nc\t100%\t1.40 min\n",
      "\tOR_ABI-L1b-RadF-M6C10_G16_s20200802040177_e20200802049497_c20200802049556.nc\t100%\t1.72 min\n",
      "\tOR_ABI-L1b-RadF-M6C13_G16_s20200802030177_e20200802039497_c20200802039578.nc\t100%\t2.33 min\n",
      "\tOR_ABI-L1b-RadF-M6C13_G16_s20200802040177_e20200802049497_c20200802049570.nc\t100%\t1.20 min\n"
     ]
    }
   ],
   "source": [
    "# download some ABI's channels of full disk\n",
    "GOES.download('goes16', 'ABI-L1b-RadF',\n",
    "              DateTimeIni = '20200320-203000', DateTimeFin = '20200320-205000',\n",
    "              Channel = ['08-10','13'], PathOut='/home/joao/Downloads/')"
   ]
  },
  {
   "cell_type": "code",
   "execution_count": 7,
   "metadata": {},
   "outputs": [
    {
     "name": "stdout",
     "output_type": "stream",
     "text": [
      "Channel list: ['08', '13'] \n",
      "\n",
      " \n",
      "Server: s3://noaa-goes16/ABI-L1b-RadM/2020/080/20/\n",
      "PathOut: /home/joao/Downloads/\n",
      "\tOR_ABI-L1b-RadM1-M6C08_G16_s20200802030253_e20200802030310_c20200802030372.nc\t100%\t0.02 min\n",
      "\tOR_ABI-L1b-RadM1-M6C08_G16_s20200802031224_e20200802031281_c20200802031335.nc\t100%\t0.02 min\n",
      "\tOR_ABI-L1b-RadM1-M6C08_G16_s20200802032224_e20200802032281_c20200802032330.nc\t100%\t0.02 min\n",
      "\tOR_ABI-L1b-RadM1-M6C08_G16_s20200802033224_e20200802033281_c20200802033335.nc\t100%\t0.02 min\n",
      "\tOR_ABI-L1b-RadM1-M6C08_G16_s20200802034224_e20200802034281_c20200802034340.nc\t100%\t0.02 min\n",
      "\tOR_ABI-L1b-RadM1-M6C08_G16_s20200802035224_e20200802035281_c20200802035338.nc\t100%\t0.02 min\n",
      "\tOR_ABI-L1b-RadM1-M6C08_G16_s20200802036224_e20200802036281_c20200802036329.nc\t100%\t0.02 min\n",
      "\tOR_ABI-L1b-RadM1-M6C08_G16_s20200802037224_e20200802037281_c20200802037322.nc\t100%\t0.02 min\n",
      "\tOR_ABI-L1b-RadM1-M6C08_G16_s20200802038224_e20200802038281_c20200802038336.nc\t100%\t0.02 min\n",
      "\tOR_ABI-L1b-RadM1-M6C08_G16_s20200802039224_e20200802039281_c20200802039334.nc\t100%\t0.02 min\n",
      "\tOR_ABI-L1b-RadM1-M6C13_G16_s20200802030253_e20200802030321_c20200802030389.nc\t100%\t0.02 min\n",
      "\tOR_ABI-L1b-RadM1-M6C13_G16_s20200802031224_e20200802031293_c20200802031339.nc\t100%\t0.02 min\n",
      "\tOR_ABI-L1b-RadM1-M6C13_G16_s20200802032224_e20200802032293_c20200802032359.nc\t100%\t0.03 min\n",
      "\tOR_ABI-L1b-RadM1-M6C13_G16_s20200802033224_e20200802033293_c20200802033348.nc\t100%\t0.02 min\n",
      "\tOR_ABI-L1b-RadM1-M6C13_G16_s20200802034224_e20200802034293_c20200802034342.nc\t100%\t0.02 min\n",
      "\tOR_ABI-L1b-RadM1-M6C13_G16_s20200802035224_e20200802035293_c20200802035341.nc\t100%\t0.02 min\n",
      "\tOR_ABI-L1b-RadM1-M6C13_G16_s20200802036224_e20200802036292_c20200802036354.nc\t100%\t0.02 min\n",
      "\tOR_ABI-L1b-RadM1-M6C13_G16_s20200802037224_e20200802037293_c20200802037355.nc\t100%\t0.02 min\n",
      "\tOR_ABI-L1b-RadM1-M6C13_G16_s20200802038224_e20200802038293_c20200802038358.nc\t100%\t0.02 min\n",
      "\tOR_ABI-L1b-RadM1-M6C13_G16_s20200802039224_e20200802039293_c20200802039342.nc\t100%\t0.02 min\n"
     ]
    }
   ],
   "source": [
    "# download ABI channels of mesoscale 1\n",
    "GOES.download('goes16', 'ABI-L1b-RadM',\n",
    "              DateTimeIni = '20200320-203000', DateTimeFin = '20200320-204000',\n",
    "              Domain='M1', Channel = ['08','13'], PathOut='/home/joao/Downloads/')"
   ]
  },
  {
   "cell_type": "code",
   "execution_count": 11,
   "metadata": {},
   "outputs": [
    {
     "name": "stdout",
     "output_type": "stream",
     "text": [
      "Channel list: ['08', '13'] \n",
      "\n",
      " \n",
      "Server: s3://noaa-goes16/ABI-L1b-RadF/2020/080/20/\n",
      "PathOut: /home/joao/Downloads/\n",
      "\tOR_ABI-L1b-RadF-M6C08_G16_s202003202030.nc\t100%\t2.38 min\n",
      "\tOR_ABI-L1b-RadF-M6C08_G16_s202003202040.nc\t100%\t1.28 min\n",
      "\tOR_ABI-L1b-RadF-M6C13_G16_s202003202030.nc\t100%\t1.25 min\n",
      "\tOR_ABI-L1b-RadF-M6C13_G16_s202003202040.nc\t100%\t2.47 min\n"
     ]
    }
   ],
   "source": [
    "# download some ABI's channels of full disk and cut file name,\n",
    "# keeping the start scan time with format that you want (Rename_fmt = 'YourFormatDateTime').\n",
    "GOES.download('goes16', 'ABI-L1b-RadF',\n",
    "              DateTimeIni = '20200320-203000', DateTimeFin = '20200320-205000',\n",
    "              Channel = ['08','13'], Rename_fmt = '%Y%m%d%H%M', PathOut='/home/joao/Downloads/')"
   ]
  },
  {
   "cell_type": "code",
   "execution_count": 9,
   "metadata": {},
   "outputs": [
    {
     "name": "stdout",
     "output_type": "stream",
     "text": [
      " \n",
      "Server: s3://noaa-goes16/GLM-L2-LCFA/2020/080/20/\n",
      "PathOut: /home/joao/Downloads/\n",
      "\tOR_GLM-L2-LCFA_G16_s20200802030000_e20200802030200_c20200802030227.nc\t100%\t0.02 min\n",
      "\tOR_GLM-L2-LCFA_G16_s20200802030200_e20200802030400_c20200802030430.nc\t100%\t0.02 min\n",
      "\tOR_GLM-L2-LCFA_G16_s20200802030400_e20200802031000_c20200802031031.nc\t100%\t0.02 min\n",
      "\tOR_GLM-L2-LCFA_G16_s20200802031000_e20200802031200_c20200802031228.nc\t100%\t0.02 min\n",
      "\tOR_GLM-L2-LCFA_G16_s20200802031200_e20200802031400_c20200802031425.nc\t100%\t0.02 min\n",
      "\tOR_GLM-L2-LCFA_G16_s20200802031400_e20200802032000_c20200802032026.nc\t100%\t0.03 min\n",
      "\tOR_GLM-L2-LCFA_G16_s20200802032000_e20200802032200_c20200802032228.nc\t100%\t0.03 min\n"
     ]
    }
   ],
   "source": [
    "# download GLM data\n",
    "GOES.download('goes16', 'GLM-L2-LCFA',\n",
    "              DateTimeIni = '20200320-203000', DateTimeFin = '20200320-203200',\n",
    "              PathOut='/home/joao/Downloads/')"
   ]
  },
  {
   "cell_type": "code",
   "execution_count": 10,
   "metadata": {},
   "outputs": [
    {
     "name": "stdout",
     "output_type": "stream",
     "text": [
      " \n",
      "Server: s3://noaa-goes16/ABI-L2-RRQPEF/2020/080/20/\n",
      "PathOut: /home/joao/Downloads/\n",
      "\tOR_ABI-L2-RRQPEF-M6_G16_s20200802030177_e20200802039485_c20200802040007.nc\t100%\t0.05 min\n",
      "\tOR_ABI-L2-RRQPEF-M6_G16_s20200802040177_e20200802049485_c20200802050036.nc\t100%\t0.05 min\n"
     ]
    }
   ],
   "source": [
    "# download RRQPEF product\n",
    "GOES.download('goes16', 'ABI-L2-RRQPEF',\n",
    "              DateTimeIni = '20200320-203000', DateTimeFin = '20200320-205000',\n",
    "              PathOut='/home/joao/Downloads/')"
   ]
  },
  {
   "cell_type": "code",
   "execution_count": null,
   "metadata": {},
   "outputs": [],
   "source": []
  }
 ],
 "metadata": {
  "kernelspec": {
   "display_name": "Python 3",
   "language": "python",
   "name": "python3"
  },
  "language_info": {
   "codemirror_mode": {
    "name": "ipython",
    "version": 3
   },
   "file_extension": ".py",
   "mimetype": "text/x-python",
   "name": "python",
   "nbconvert_exporter": "python",
   "pygments_lexer": "ipython3",
   "version": "3.6.7"
  }
 },
 "nbformat": 4,
 "nbformat_minor": 2
}
